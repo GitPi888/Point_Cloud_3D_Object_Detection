{
 "cells": [
  {
   "cell_type": "code",
   "execution_count": null,
   "id": "44a6be97",
   "metadata": {},
   "outputs": [],
   "source": [
    "import torch.nn as nn\n",
    "import torch.nn.functional as F\n",
    "import torch\n",
    "from torch.utils.data import Dataset, DataLoader\n",
    "import os\n",
    "import numpy as np\n",
    "import torch\n",
    "import collections\n",
    "from scipy.linalg import expm,norm\n",
    "import glob\n",
    "import open3d as o3d\n",
    "import struct\n",
    "import matplotlib.pyplot as plt\n",
    "from tqdm import tqdm\n"
   ]
  },
  {
   "cell_type": "code",
   "execution_count": 39,
   "id": "76f3f1f2",
   "metadata": {},
   "outputs": [
    {
     "name": "stdout",
     "output_type": "stream",
     "text": [
      "Running on: TrainModel\n"
     ]
    }
   ],
   "source": [
    "import socket\n",
    "print(\"Running on:\", socket.gethostname())"
   ]
  },
  {
   "cell_type": "markdown",
   "id": "c92fcbb6",
   "metadata": {},
   "source": [
    "<h2> Build PointNet++ </h2>"
   ]
  },
  {
   "cell_type": "code",
   "execution_count": null,
   "id": "904e55e1",
   "metadata": {},
   "outputs": [],
   "source": [
    "# helper functions:\n",
    "def farthest_point_sample(xyz, npoint):\n",
    "    batch_size, n, _ = xyz.shape\n",
    "    device = xyz.device\n",
    "    centroids = torch.zeros(batch_size, npoint, dtype=torch.long).to(device)\n",
    "    distance = torch.ones(batch_size, n).to(device) * 1e10\n",
    "    farthest = torch.randint(0, n, (batch_size,), dtype=torch.long).to(device)\n",
    "    batch_indices = torch.arange(batch_size, dtype=torch.long).to(device)\n",
    "\n",
    "    for i in range(npoint):\n",
    "        centroids[:, i] = farthest\n",
    "        centroid = xyz[batch_indices, farthest, :].unsqueeze(1)  # [B, 1, 3]\n",
    "        dist = torch.sum((xyz - centroid) ** 2, -1)  # Squared distance [B, N]\n",
    "        mask = dist < distance\n",
    "        distance[mask] = dist[mask]\n",
    "        farthest = torch.max(distance, -1)[1]  # Index of the farthest point\n",
    "\n",
    "    return centroids\n",
    "\n",
    "\n",
    "def gather_points(points, idx):\n",
    "    \"\"\"\n",
    "    points: [B, N, C]\n",
    "    idx: [B, S] or [B, S, K]\n",
    "    Output: [B, S, C] or [B, S, K, C]\n",
    "    \"\"\"\n",
    "    B = points.shape[0]\n",
    "    if idx.dim() == 2:\n",
    "        batch_indices = torch.arange(B, dtype=torch.long, device=points.device).view(B, 1).repeat(1, idx.shape[1])\n",
    "        return points[batch_indices, idx]  # [B, S, C]\n",
    "    elif idx.dim() == 3:\n",
    "        B, S, K = idx.shape\n",
    "        C = points.shape[2]\n",
    "        idx_expand = idx.unsqueeze(-1).expand(-1, -1, -1, C)\n",
    "        points_expand = points.unsqueeze(1).expand(-1, S, -1, -1)\n",
    "        return torch.gather(points_expand, 2, idx_expand)  # [B, S, K, C]\n",
    "\n",
    "\n",
    "def query_and_group(xyz, new_xyz, points, radius, nsample):\n",
    "    B, N, _ = xyz.shape\n",
    "    _, npoint, _ = new_xyz.shape\n",
    "\n",
    "    # Compute squared distances between sampled points and all points\n",
    "    sqrdists = square_distance(new_xyz, xyz)  # [B, npoint, N]\n",
    "\n",
    "    # Find indices of the nearest neighbors\n",
    "    group_idx = sqrdists.argsort(dim=-1)[:, :, :nsample]  # [B, npoint, nsample]\n",
    "\n",
    "    # Gather the grouped xyz coordinates\n",
    "    grouped_xyz = gather_points(xyz, group_idx)  # [B, npoint, nsample, 3]\n",
    "    grouped_xyz = grouped_xyz - new_xyz.unsqueeze(2)  # Local coordinates [B, npoint, nsample, 3]\n",
    "\n",
    "    if points is not None:\n",
    "        grouped_points = gather_points(points.transpose(1, 2), group_idx).permute(0, 3, 2, 1)  # [B, C, nsample, npoint]\n",
    "        new_points = torch.cat([grouped_xyz.permute(0, 3, 2, 1), grouped_points], dim=1)  # [B, C+3, nsample, npoint]\n",
    "    else:\n",
    "        new_points = grouped_xyz.permute(0, 3, 2, 1)  # [B, 3, nsample, npoint]\n",
    "\n",
    "    return new_points\n",
    "\n",
    "\n",
    "def square_distance(src, dst):\n",
    "    B, N, _ = src.shape\n",
    "    _, M, _ = dst.shape\n",
    "    dist = -2 * torch.matmul(src, dst.permute(0, 2, 1))  # [B, N, M]\n",
    "    dist += torch.sum(src ** 2, -1).view(B, N, 1)\n",
    "    dist += torch.sum(dst ** 2, -1).view(B, 1, M)\n",
    "    return dist\n",
    "\n",
    "\n",
    "class SetAbstraction(nn.Module):\n",
    "    def __init__(self, npoint, radius, nsample, in_channel, mlp):\n",
    "        super(SetAbstraction, self).__init__()\n",
    "        self.npoint = npoint\n",
    "        self.radius = radius\n",
    "        self.nsample = nsample\n",
    "\n",
    "        # Include x, y, z coordinates in the input channel count\n",
    "        last_channel = in_channel + 3  # Add (x, y, z)\n",
    "        self.mlp_convs = nn.ModuleList()\n",
    "        self.mlp_bns = nn.ModuleList()\n",
    "        for out_channel in mlp:\n",
    "            self.mlp_convs.append(nn.Conv2d(last_channel, out_channel, 1))  # Conv2D expects [B, C_in, nsample, npoint]\n",
    "            self.mlp_bns.append(nn.BatchNorm2d(out_channel))\n",
    "            last_channel = out_channel\n",
    "\n",
    "    def forward(self, xyz, points):\n",
    "\n",
    "\n",
    "        if self.npoint is not None:\n",
    "            idx = farthest_point_sample(xyz, self.npoint)  # [B, npoint]\n",
    "            new_xyz = gather_points(xyz, idx)  # [B, npoint, 3]\n",
    "        else:\n",
    "            new_xyz = xyz  # Use all points if npoint is None\n",
    "\n",
    "        grouped_points = query_and_group(xyz, new_xyz, points, self.radius, self.nsample)  # [B, C+3, nsample, npoint]\n",
    "        for i, conv in enumerate(self.mlp_convs):\n",
    "            grouped_points = F.relu(self.mlp_bns[i](conv(grouped_points)))  # [B, out_channel, nsample, npoint]\n",
    "\n",
    "        # Max pooling over nsample dimension\n",
    "        new_points = torch.max(grouped_points, 2)[0]  # [B, mlp[-1], npoint]\n",
    "        return new_xyz, new_points\n",
    "    \n",
    "    \n",
    "class Attention(nn.Module):\n",
    "    \"\"\"\n",
    "    Lớp self-attention cho đặc trưng điểm trong point cloud.\n",
    "    Dùng sau mỗi tầng Set Abstraction để tăng hiệu suất mô hình học hình học.\n",
    "    Input: [B, C, N] (batch, channel, num_points)\n",
    "    Output: [B, C, N]\n",
    "    \"\"\"\n",
    "    def __init__(self, in_channels, heads=4):\n",
    "        super(Attention, self).__init__()\n",
    "        self.in_channels = in_channels\n",
    "        self.heads = heads\n",
    "        self.dk = in_channels // heads\n",
    "        assert in_channels % heads == 0, \"in_channels phải chia hết cho số heads\"\n",
    "        self.query = nn.Conv1d(in_channels, in_channels, 1)\n",
    "        self.key = nn.Conv1d(in_channels, in_channels, 1)\n",
    "        self.value = nn.Conv1d(in_channels, in_channels, 1)\n",
    "        self.proj = nn.Conv1d(in_channels, in_channels, 1)\n",
    "\n",
    "    def forward(self, x):\n",
    "        # x: [B, C, N]\n",
    "         # x: [B, C, N]\n",
    "        B, C, N = x.shape\n",
    "        Q = self.query(x).view(B, self.heads, self.dk, N).permute(0, 1, 3, 2)  # [B, H, N, dk]\n",
    "        K = self.key(x).view(B, self.heads, self.dk, N)                        # [B, H, dk, N]\n",
    "        V = self.value(x).view(B, self.heads, self.dk, N)                      # [B, H, dk, N]\n",
    "\n",
    "        # Compute scaled dot-product attention\n",
    "        attn_scores = torch.matmul(Q, K) / (self.dk ** 0.5)  # [B, H, N, N]\n",
    "        attn = torch.softmax(attn_scores, dim=-1)            # [B, H, N, N]\n",
    "\n",
    "        out = torch.matmul(attn, V.permute(0, 1, 3, 2))       # [B, H, N, dk]\n",
    "        out = out.permute(0, 1, 3, 2).contiguous().view(B, C, N)  # [B, C, N]\n",
    "        out = self.proj(out)\n",
    "        return out + x  # Residual connection\n",
    "    \n",
    "class PointNetFeaturePropagation(nn.Module):\n",
    "\n",
    "    \"\"\" Feature Propagation layer for PointNet++.\n",
    "    Input: \n",
    "        xyz1: điểm có ít đặc trưng (thường là full resolution, eg. 2048)\n",
    "        xyz2: điểm có nhiều đặc trưng (đã được downsample, eg. 512)\n",
    "        points1: đặc trưng xyz1 (thường là None hoặc từ FP trước đó)\n",
    "        points2: đặc trưng xyz2 (output của SA)\n",
    "    Output:\n",
    "        features của xyz1 (nhiều điểm) sau khi được interpolate từ xyz2 \"\"\"\n",
    "    \n",
    "    def __init__(self, in_channel, mlp):\n",
    "        super(PointNetFeaturePropagation, self).__init__()\n",
    "        self.mlp_convs = nn.ModuleList()\n",
    "        self.mlp_bns = nn.ModuleList()\n",
    "        last_channel = in_channel\n",
    "        for out_channel in mlp:\n",
    "            self.mlp_convs.append(nn.Conv1d(last_channel, out_channel, 1))\n",
    "            self.mlp_bns.append(nn.BatchNorm1d(out_channel))\n",
    "            last_channel = out_channel\n",
    "    \n",
    "    def forward(self, xyz1, xyz2, points1, points2):\n",
    "        \"\"\"\n",
    "        Input:\n",
    "            xyz1: [B, N, 3] - target points (original/resampled)\n",
    "            xyz2: [B, S, 3] - source points (from SA, usually downsampled)\n",
    "            points1: [B, C1, N] - features for xyz1 (may be None)\n",
    "            points2: [B, C2, S] - features for xyz2\n",
    "\n",
    "        Return:\n",
    "            new_points: [B, mlp[-1], N] \n",
    "        \"\"\"\n",
    "        B, N, C = xyz1.shape\n",
    "        _, S, _ = xyz2.shape\n",
    "        if S == 1:\n",
    "            interpolated_points = points2.repeat(1, 1, N)\n",
    "        else:\n",
    "            # 3 nearest neighbor interpolation\n",
    "            dists = square_distance(xyz1, xyz2)  # [B, N, S]\n",
    "            dists, idx = dists.sort(dim=-1)  # sorted distances\n",
    "            dists, idx = dists[:, :, :3], idx[:, :, :3]  # Take 3-NN\n",
    "\n",
    "            dist_recip = 1.0 / (dists + 1e-8)  # Avoid division by 0\n",
    "            norm = torch.sum(dist_recip, dim=2, keepdim=True)\n",
    "            weight = dist_recip / norm\n",
    "\n",
    "            interpolated_points = torch.sum(gather_points(points2.transpose(1, 2), idx) * weight.unsqueeze(-1), dim=2)\n",
    "            interpolated_points = interpolated_points.transpose(1, 2)  # [B, C2, N]\n",
    "\n",
    "        if points1 is not None:\n",
    "            new_points = torch.cat([interpolated_points, points1], dim=1)  # [B, C1+C2, N]\n",
    "        else:\n",
    "            new_points = interpolated_points  # [B, C2, N]\n",
    "\n",
    "        for i, conv in enumerate(self.mlp_convs):\n",
    "            new_points = F.relu(self.mlp_bns[i](conv(new_points)))  # [B, out, N]\n",
    "\n",
    "        return new_points\n",
    "\n",
    "class GLUBlock(nn.Module):\n",
    "    def __init__(self, in_dim, out_dim):\n",
    "        super().__init__()\n",
    "        self.linear_main = nn.Linear(in_dim, out_dim)\n",
    "        self.linear_gate = nn.Linear(in_dim, out_dim)\n",
    "    \n",
    "    def forward(self, x):\n",
    "        return self.linear_main(x) * torch.sigmoid(self.linear_gate(x))\n",
    "\n",
    "class LightHead(nn.Module):\n",
    "    def __init__(self, in_dim, num_classes):\n",
    "        super().__init__()\n",
    "        self.global_pool = nn.AdaptiveMaxPool1d(1)\n",
    "        self.conv1 = nn.Conv1d(in_dim, 128, 1)\n",
    "        self.conv2 = nn.Conv1d(128, num_classes, 1)\n",
    "        \n",
    "\n",
    "        self.bn1 = nn.BatchNorm1d(128)\n",
    "        self.bn2 = nn.BatchNorm1d(num_classes)\n",
    "\n",
    "        self.dropout1 = nn.Dropout(0.6)\n",
    "        self.dropout2 = nn.Dropout(0.6)\n",
    "        \n",
    "    def forward(self, x):\n",
    "        x = self.global_pool(x)\n",
    "        x = F.relu(self.dropout1(self.bn1(self.conv1(x)))) \n",
    "        x = F.relu(self.dropout2(self.bn2(self.conv2(x))))\n",
    "        x= x.squeeze(dim=-1)\n",
    "        return x\n",
    "    \n",
    "\n",
    "\n",
    "\n",
    "# Define PointNet++ model\n",
    "class PointNetPlusPlus(nn.Module):\n",
    "    def __init__(self, num_classes):\n",
    "        super(PointNetPlusPlus, self).__init__()\n",
    "\n",
    "        # Set Abstraction layers\n",
    "        self.sa1 = SetAbstraction(npoint=512, radius=0.2, nsample=64, in_channel=0, mlp=[64,64])\n",
    "        self.sa1_attention = Attention(in_channels=64, heads=4)  # Attention after first SA layer\n",
    "        self.sa2 = SetAbstraction(npoint=256, radius=0.4, nsample=128, in_channel=64, mlp=[64, 128])\n",
    "        self.sa2_attention = Attention(in_channels=128, heads=4)  # Attention after second SA layer\n",
    "        self.sa3 = SetAbstraction(npoint=None, radius=None, nsample=None, in_channel=128, mlp=[128,256])\n",
    "        self.sa3_attention = Attention(in_channels=256, heads=4)  # Attention after third SA layer\n",
    "        # Fully connected layers for classification\n",
    "        self.fp3 = PointNetFeaturePropagation(in_channel=128 + 256, mlp=[128, 128])\n",
    "        self.fp2 = PointNetFeaturePropagation(in_channel=64 + 128, mlp=[128, 64])\n",
    "\n",
    "        self.light_head = LightHead(in_dim=256, num_classes=num_classes)\n",
    "\n",
    "    def forward(self, xyz):\n",
    "        batch_size, _, _ = xyz.shape\n",
    "\n",
    "        # Hierarchical feature extraction\n",
    "        l1_xyz, l1_points = self.sa1(xyz, None)  # Layer 1: [B, 512, 128]\n",
    "        l1_points = self.sa1_attention(l1_points)     \n",
    "        l2_xyz, l2_points = self.sa2(l1_xyz, l1_points)  # Layer 2: [B, 128, 256]\n",
    "        l2_points = self.sa2_attention(l2_points)\n",
    "        _, l3_points = self.sa3(l2_xyz, l2_points)    # Layer 3: [B, 1024, npoint]\n",
    "        # Fully connected layers\n",
    "        return self.light_head(l3_points)\n",
    "\n",
    "\n",
    "\n",
    "\n"
   ]
  },
  {
   "cell_type": "markdown",
   "id": "aaee1d15",
   "metadata": {},
   "source": [
    "<h2> Dataset utils </h2>"
   ]
  },
  {
   "cell_type": "code",
   "execution_count": 41,
   "id": "8dfe2c51",
   "metadata": {},
   "outputs": [],
   "source": [
    "def extract_unique_labels(label_dir):\n",
    "    unique_labels = set()\n",
    "    for label_file in os.listdir(label_dir):\n",
    "        if label_file.endswith('.txt'):\n",
    "            with open(os.path.join(label_dir, label_file), 'r') as file:\n",
    "                for line in file:\n",
    "                    parts = line.strip().split()\n",
    "                    unique_labels.add(parts[0])  # Add the label (Class)\n",
    "    return sorted(unique_labels)"
   ]
  },
  {
   "cell_type": "code",
   "execution_count": 42,
   "id": "e49437b8",
   "metadata": {},
   "outputs": [],
   "source": [
    "def bin_to_pcd(binFileName):\n",
    "    size_float = 4\n",
    "    list_pcd = []\n",
    "    with open(binFileName, \"rb\") as f:\n",
    "        byte = f.read(size_float * 4)\n",
    "        while byte:\n",
    "            x, y, z, intensity = struct.unpack(\"ffff\", byte)\n",
    "            list_pcd.append([x, y, z])\n",
    "            byte = f.read(size_float * 4)\n",
    "    np_pcd = np.asarray(list_pcd)\n",
    "    pcd = o3d.geometry.PointCloud()\n",
    "    pcd.points = o3d.utility.Vector3dVector(np_pcd)\n",
    "    return pcd"
   ]
  },
  {
   "cell_type": "code",
   "execution_count": 43,
   "id": "ec37f766",
   "metadata": {},
   "outputs": [
    {
     "name": "stdout",
     "output_type": "stream",
     "text": [
      "Extracted label mapping: {'Car': 0, 'Cyclist': 1, 'DontCare': 2, 'Misc': 3, 'Pedestrian': 4, 'Person_sitting': 5, 'Tram': 6, 'Truck': 7, 'Van': 8}\n"
     ]
    }
   ],
   "source": [
    "velodyne_dir = r\"/root/data/training/velodyne\"\n",
    "label_dir = r\"/root/data/training/label_2\"\n",
    "calib_dir = r\"/root/data/training/calib\"\n",
    "unique_labels = extract_unique_labels(label_dir)\n",
    "label_to_id = {label: idx for idx, label in enumerate(unique_labels)}\n",
    "print(\"Extracted label mapping:\", label_to_id)"
   ]
  },
  {
   "cell_type": "code",
   "execution_count": 44,
   "id": "afb2fb90",
   "metadata": {},
   "outputs": [],
   "source": [
    "def read_velodyne_bin(bin_path):\n",
    "    \"\"\"\n",
    "    Đọc file .bin từ KITTI và trả về mảng (N, 4): x, y, z, reflectance\n",
    "    \"\"\"\n",
    "    return np.fromfile(bin_path, dtype=np.float32).reshape(-1, 4)"
   ]
  },
  {
   "cell_type": "code",
   "execution_count": 45,
   "id": "dfe756d3",
   "metadata": {},
   "outputs": [],
   "source": [
    "def read_kitti_label(label_file):\n",
    "    \"\"\"\n",
    "    Đọc file .txt nhãn từ KITTI object detection.\n",
    "    Trả về danh sách bounding box + class:\n",
    "    [class, x, y, z, h, w, l, ry]\n",
    "    \"\"\"\n",
    "    if not label_file.endswith('.txt'):\n",
    "        return None\n",
    "    boxes = []\n",
    "    with open(label_file, 'r') as f:\n",
    "        for line in f:\n",
    "            if line.strip() == '':\n",
    "                continue\n",
    "            parts = line.strip().split(' ')\n",
    "            cls = parts[0]\n",
    "            if cls == 'DontCare':\n",
    "                continue\n",
    "            # Extract 3D box info\n",
    "            h, w, l = map(float, parts[8:11])\n",
    "            x, y, z = map(float, parts[11:14])\n",
    "            ry = float(parts[14])\n",
    "            boxes.append({\n",
    "                'class': cls,\n",
    "                'center': [x, y, z],\n",
    "                'size': [l, w, h],\n",
    "                'rotation': ry\n",
    "            })\n",
    "    return boxes"
   ]
  },
  {
   "cell_type": "code",
   "execution_count": 46,
   "id": "d25678ad",
   "metadata": {},
   "outputs": [],
   "source": [
    "def read_calib_file(calib_path):\n",
    "    \"\"\"\n",
    "    Đọc file calibration của KITTI và trả về các ma trận chuyển đổi\n",
    "    \"\"\"\n",
    "    data = {}\n",
    "    with open(calib_path, 'r') as f:\n",
    "        for line in f.readlines():\n",
    "            if ':' in line:\n",
    "                key, value = line.split(':', 1)\n",
    "                data[key] = np.array([float(x) for x in value.strip().split()])\n",
    "    \n",
    "    # Chuyển về ma trận đúng shape\n",
    "    data['Tr_velo_to_cam'] = data['Tr_velo_to_cam'].reshape(3, 4)\n",
    "    data['R0_rect'] = data['R0_rect'].reshape(3, 3)\n",
    "    return data"
   ]
  },
  {
   "cell_type": "code",
   "execution_count": 47,
   "id": "4f8d7f47",
   "metadata": {},
   "outputs": [],
   "source": [
    "def cam_to_velo(xyz_cam, calib):\n",
    "    \"\"\"\n",
    "    Chuyển đổi tọa độ từ camera sang lidar (velodyne)\n",
    "    xyz_cam: (N, 3) - tọa độ trong hệ camera\n",
    "    calib: dict chứa các ma trận calibration\n",
    "    \"\"\"\n",
    "    # Thêm 1 vào cuối để thành (N, 4) - homogeneous coordinates\n",
    "    xyz_cam_hom = np.hstack([xyz_cam, np.ones((xyz_cam.shape[0], 1))])\n",
    "    \n",
    "    # Lấy ma trận chuyển đổi từ velodyne sang camera\n",
    "    Tr = calib['Tr_velo_to_cam']  # (3, 4)\n",
    "    \n",
    "    # Tính ma trận nghịch đảo để chuyển từ camera sang velodyne\n",
    "    Tr_inv = np.linalg.pinv(np.vstack([Tr, [0,0,0,1]]))  # (4,4)\n",
    "    \n",
    "    # Chuyển đổi tọa độ\n",
    "    xyz_velo = (Tr_inv @ xyz_cam_hom.T).T[:, :3]\n",
    "    return xyz_velo"
   ]
  },
  {
   "cell_type": "code",
   "execution_count": 48,
   "id": "5af69846",
   "metadata": {},
   "outputs": [],
   "source": [
    "def convert_3d_box_to_velo(box, calib):\n",
    "    \"\"\"\n",
    "    Chuyển đổi 3D bounding box từ hệ camera sang hệ lidar\n",
    "    box: dict chứa thông tin box {'center': [x,y,z], 'size': [l,w,h], 'rotation': ry}\n",
    "    calib: dict chứa các ma trận calibration\n",
    "    \"\"\"\n",
    "    center_cam = np.array([box['center']])  # (1, 3)\n",
    "    center_velo = cam_to_velo(center_cam, calib)[0]  # (3,)\n",
    "    \n",
    "    # Kích thước box không đổi khi chuyển hệ tọa độ\n",
    "    size_velo = box['size']  # [l, w, h]\n",
    "    \n",
    "    # Góc quay cần điều chỉnh (thường không đổi nhiều)\n",
    "    rotation_velo = box['rotation']\n",
    "    \n",
    "    return {\n",
    "        'center': center_velo.tolist(),\n",
    "        'size': size_velo,\n",
    "        'rotation': rotation_velo,\n",
    "        'class': box['class']\n",
    "    }"
   ]
  },
  {
   "cell_type": "code",
   "execution_count": 49,
   "id": "90172b33",
   "metadata": {},
   "outputs": [],
   "source": [
    "def extract_objects_from_pointcloud_with_calib(points, bboxes, class_map, calib):\n",
    "    \"\"\"\n",
    "    Trích xuất object từ point cloud với chuyển đổi hệ tọa độ\n",
    "    \"\"\"\n",
    "    objects = []\n",
    "    for box in bboxes:\n",
    "        cls = box['class']\n",
    "        if cls not in class_map:\n",
    "            continue\n",
    "            \n",
    "        # Chuyển đổi box từ camera sang lidar\n",
    "        box_velo = convert_3d_box_to_velo(box, calib)\n",
    "        \n",
    "        center, size = box_velo['center'], box_velo['size']\n",
    "        l, w, h = size\n",
    "        x, y, z = center\n",
    "\n",
    "        # Hộp trục song song (AABB) trong hệ lidar\n",
    "        mask = (\n",
    "            (points[:, 0] > x - l/2) & (points[:, 0] < x + l/2) &\n",
    "            (points[:, 1] > y - w/2) & (points[:, 1] < y + w/2) &\n",
    "            (points[:, 2] > z - h/2) & (points[:, 2] < z + h/2)\n",
    "        )\n",
    "        pc_object = points[mask][:, :3]\n",
    "        \n",
    "        if len(pc_object) >= 30:  # Chỉ lấy object có đủ điểm\n",
    "            label_id = class_map[str(cls)]\n",
    "            objects.append((pc_object, label_id))\n",
    "            \n",
    "    return objects"
   ]
  },
  {
   "cell_type": "code",
   "execution_count": 50,
   "id": "28c6cc0a",
   "metadata": {},
   "outputs": [],
   "source": [
    "def extract_all_objects_with_calib(velodyne_dir, label_dir, calib_dir, class_map):\n",
    "    \"\"\"\n",
    "    Trích xuất tất cả object từ point cloud với chuyển đổi hệ tọa độ\n",
    "    \"\"\"\n",
    "    all_objects = []  # List chứa (pc_object, class_id)\n",
    "    bin_files = sorted(glob.glob(os.path.join(velodyne_dir, \"*.bin\")))\n",
    "\n",
    "    for bin_path in bin_files:\n",
    "        file_id = os.path.splitext(os.path.basename(bin_path))[0]  # '000012'\n",
    "\n",
    "        # Đường dẫn đến file label và calib tương ứng\n",
    "        label_path = os.path.join(label_dir, f\"{file_id}.txt\")\n",
    "        calib_path = os.path.join(calib_dir, f\"{file_id}.txt\")\n",
    "        \n",
    "        if not os.path.exists(label_path):\n",
    "            print(f\"[!] Thiếu label cho {file_id}, bỏ qua\")\n",
    "            continue\n",
    "            \n",
    "        if not os.path.exists(calib_path):\n",
    "            print(f\"[!] Thiếu calib cho {file_id}, bỏ qua\")\n",
    "            continue\n",
    "\n",
    "        # Đọc dữ liệu\n",
    "        points = read_velodyne_bin(bin_path)\n",
    "        bboxes = read_kitti_label(label_path)\n",
    "        calib = read_calib_file(calib_path)\n",
    "        \n",
    "        # Trích xuất object với chuyển đổi hệ tọa độ\n",
    "        objects = extract_objects_from_pointcloud_with_calib(points, bboxes, class_map, calib)\n",
    "        all_objects.extend(objects)\n",
    "        \n",
    "    return all_objects"
   ]
  },
  {
   "cell_type": "markdown",
   "id": "ff24ba94",
   "metadata": {},
   "source": [
    "<h2> Class Dataset </h2>\n",
    "\n",
    "\n"
   ]
  },
  {
   "cell_type": "code",
   "execution_count": 51,
   "id": "19a1f652",
   "metadata": {},
   "outputs": [
    {
     "name": "stdout",
     "output_type": "stream",
     "text": [
      "Tổng số object trích ra: 24709\n"
     ]
    }
   ],
   "source": [
    "all_objs = extract_all_objects_with_calib(velodyne_dir, label_dir,  calib_dir,label_to_id)\n",
    "\n",
    "print(f\"Tổng số object trích ra: {len(all_objs)}\")\n",
    "# all_objs = [(pc1, label1), (pc2, label2), ...]"
   ]
  },
  {
   "cell_type": "code",
   "execution_count": 63,
   "id": "38a1e770",
   "metadata": {},
   "outputs": [
    {
     "name": "stdout",
     "output_type": "stream",
     "text": [
      "(194, 3)\n"
     ]
    }
   ],
   "source": [
    "for pc_obj, label in all_objs:\n",
    "    print(pc_obj.shape)\n",
    "    break"
   ]
  },
  {
   "cell_type": "code",
   "execution_count": 64,
   "id": "5561d4e7",
   "metadata": {},
   "outputs": [],
   "source": [
    "import random\n",
    "def augment_pointcloud(xyz):\n",
    "    xyz = xyz + (torch.randn_like(xyz) * 0.02)  # Gaussian noise\n",
    "\n",
    "    theta = random.uniform(0, 2 * np.pi)\n",
    "    R = torch.tensor([\n",
    "        [np.cos(theta), -np.sin(theta), 0],\n",
    "        [np.sin(theta),  np.cos(theta), 0],\n",
    "        [0,              0,             1]\n",
    "    ], dtype=xyz.dtype, device=xyz.device)\n",
    "\n",
    "    return xyz @ R.T"
   ]
  },
  {
   "cell_type": "code",
   "execution_count": 65,
   "id": "ed9926d9",
   "metadata": {},
   "outputs": [],
   "source": [
    "class KittiObjectDataset(Dataset):\n",
    "    def __init__(self,all_objs,num_points= 1024,augment=True) -> None:\n",
    "        self.all_objs = all_objs\n",
    "\n",
    "        self.num_points = num_points\n",
    "\n",
    "        self.augment= augment\n",
    "        \n",
    "    def __len__(self):\n",
    "        return len(self.all_objs)\n",
    "    \n",
    "    def __getitem__(self, index):\n",
    "        \n",
    "        pc_obj, label = self.all_objs[index]\n",
    "\n",
    "        xyz = pc_obj[:, :3]\n",
    "        xyz = torch.tensor(xyz, dtype=torch.float32)\n",
    "\n",
    "        if self.augment:\n",
    "            xyz = augment_pointcloud(xyz)\n",
    "            \n",
    "        if xyz.shape[0] > self.num_points:\n",
    "            idxs = np.random.choice(xyz.shape[0], self.num_points, replace=False)\n",
    "            idxs= torch.tensor(idxs, dtype=torch.long)\n",
    "        else:\n",
    "            idxs = np.random.choice(xyz.shape[0], self.num_points, replace=True)\n",
    "            idxs= torch.tensor(idxs, dtype=torch.long)\n",
    "        xyz = xyz[idxs]\n",
    "        \n",
    "\n",
    "        return xyz, torch.tensor(label, dtype=torch.long)"
   ]
  },
  {
   "cell_type": "code",
   "execution_count": null,
   "id": "2be00374",
   "metadata": {},
   "outputs": [],
   "source": [
    "# Training Parameters\n",
    "from torch import optim\n",
    "NUM_POINTS= 1024\n",
    "NUM_CLASSES = len(label_to_id)\n",
    "EPOCHS = 80\n",
    "BATCH_SIZE = 128\n",
    "\n",
    "# Initialize model, optimizer, and loss function\n",
    "device = torch.device(\"cuda\" if torch.cuda.is_available() else \"cpu\")\n",
    "model = PointNetPlusPlus(num_classes=NUM_CLASSES).to(device)\n",
    "criterion = nn.CrossEntropyLoss()\n",
    "optimizer = torch.optim.Adam(model.parameters(), lr=0.001, weight_decay=1e-4)"
   ]
  },
  {
   "cell_type": "code",
   "execution_count": 69,
   "id": "0a8f5dfd",
   "metadata": {},
   "outputs": [],
   "source": [
    "scheduler = torch.optim.lr_scheduler.ReduceLROnPlateau(optimizer, 'min', patience=5)"
   ]
  },
  {
   "cell_type": "code",
   "execution_count": null,
   "id": "c0359c27",
   "metadata": {},
   "outputs": [
    {
     "name": "stdout",
     "output_type": "stream",
     "text": [
      "+----------------------------+------------+\n",
      "|          Modules           | Parameters |\n",
      "+----------------------------+------------+\n",
      "|   sa1.mlp_convs.0.weight   |    192     |\n",
      "|    sa1.mlp_convs.0.bias    |     64     |\n",
      "|   sa1.mlp_convs.1.weight   |    4096    |\n",
      "|    sa1.mlp_convs.1.bias    |     64     |\n",
      "|    sa1.mlp_bns.0.weight    |     64     |\n",
      "|     sa1.mlp_bns.0.bias     |     64     |\n",
      "|    sa1.mlp_bns.1.weight    |     64     |\n",
      "|     sa1.mlp_bns.1.bias     |     64     |\n",
      "| sa1_attention.query.weight |    4096    |\n",
      "|  sa1_attention.query.bias  |     64     |\n",
      "|  sa1_attention.key.weight  |    4096    |\n",
      "|   sa1_attention.key.bias   |     64     |\n",
      "| sa1_attention.value.weight |    4096    |\n",
      "|  sa1_attention.value.bias  |     64     |\n",
      "| sa1_attention.proj.weight  |    4096    |\n",
      "|  sa1_attention.proj.bias   |     64     |\n",
      "|   sa2.mlp_convs.0.weight   |    4288    |\n",
      "|    sa2.mlp_convs.0.bias    |     64     |\n",
      "|   sa2.mlp_convs.1.weight   |    8192    |\n",
      "|    sa2.mlp_convs.1.bias    |    128     |\n",
      "|    sa2.mlp_bns.0.weight    |     64     |\n",
      "|     sa2.mlp_bns.0.bias     |     64     |\n",
      "|    sa2.mlp_bns.1.weight    |    128     |\n",
      "|     sa2.mlp_bns.1.bias     |    128     |\n",
      "| sa2_attention.query.weight |   16384    |\n",
      "|  sa2_attention.query.bias  |    128     |\n",
      "|  sa2_attention.key.weight  |   16384    |\n",
      "|   sa2_attention.key.bias   |    128     |\n",
      "| sa2_attention.value.weight |   16384    |\n",
      "|  sa2_attention.value.bias  |    128     |\n",
      "| sa2_attention.proj.weight  |   16384    |\n",
      "|  sa2_attention.proj.bias   |    128     |\n",
      "|   sa3.mlp_convs.0.weight   |   16768    |\n",
      "|    sa3.mlp_convs.0.bias    |    128     |\n",
      "|   sa3.mlp_convs.1.weight   |   32768    |\n",
      "|    sa3.mlp_convs.1.bias    |    256     |\n",
      "|    sa3.mlp_bns.0.weight    |    128     |\n",
      "|     sa3.mlp_bns.0.bias     |    128     |\n",
      "|    sa3.mlp_bns.1.weight    |    256     |\n",
      "|     sa3.mlp_bns.1.bias     |    256     |\n",
      "|   fp3.mlp_convs.0.weight   |   49152    |\n",
      "|    fp3.mlp_convs.0.bias    |    128     |\n",
      "|   fp3.mlp_convs.1.weight   |   16384    |\n",
      "|    fp3.mlp_convs.1.bias    |    128     |\n",
      "|    fp3.mlp_bns.0.weight    |    128     |\n",
      "|     fp3.mlp_bns.0.bias     |    128     |\n",
      "|    fp3.mlp_bns.1.weight    |    128     |\n",
      "|     fp3.mlp_bns.1.bias     |    128     |\n",
      "|   fp2.mlp_convs.0.weight   |   24576    |\n",
      "|    fp2.mlp_convs.0.bias    |    128     |\n",
      "|   fp2.mlp_convs.1.weight   |    8192    |\n",
      "|    fp2.mlp_convs.1.bias    |     64     |\n",
      "|    fp2.mlp_bns.0.weight    |    128     |\n",
      "|     fp2.mlp_bns.0.bias     |    128     |\n",
      "|    fp2.mlp_bns.1.weight    |     64     |\n",
      "|     fp2.mlp_bns.1.bias     |     64     |\n",
      "|  light_head.conv1.weight   |   32768    |\n",
      "|   light_head.conv1.bias    |    128     |\n",
      "|  light_head.conv2.weight   |    1152    |\n",
      "|   light_head.conv2.bias    |     9      |\n",
      "|   light_head.bn1.weight    |    128     |\n",
      "|    light_head.bn1.bias     |    128     |\n",
      "|   light_head.bn2.weight    |     9      |\n",
      "|    light_head.bn2.bias     |     9      |\n",
      "+----------------------------+------------+\n",
      "Total Trainable Params: 285083\n"
     ]
    }
   ],
   "source": [
    "from prettytable import PrettyTable\n",
    "table = PrettyTable([\"Modules\", \"Parameters\"])\n",
    "total_params = 0\n",
    "for name, parameter in model.named_parameters():\n",
    "    if not parameter.requires_grad: continue\n",
    "    params = parameter.numel()\n",
    "    table.add_row([name, params])\n",
    "    total_params+=params\n",
    "print(table)\n",
    "print(f\"Total Trainable Params: {total_params}\")"
   ]
  },
  {
   "cell_type": "code",
   "execution_count": 71,
   "id": "1086a6c4",
   "metadata": {},
   "outputs": [
    {
     "name": "stdout",
     "output_type": "stream",
     "text": [
      "Tổng số mẫu trong dataset: 24709\n"
     ]
    }
   ],
   "source": [
    "from torch.utils.data import random_split\n",
    "\n",
    "dataset = KittiObjectDataset(all_objs, num_points=NUM_POINTS,augment=True)\n",
    "\n",
    "len_dataset = len(dataset)\n",
    "print(f\"Tổng số mẫu trong dataset: {len_dataset}\")\n",
    "\n",
    "train_dataset, val_dataset, test_dataset = random_split(dataset,\n",
    "                                          [round(0.7*len_dataset), round(0.1*len_dataset), round(0.2*len_dataset)],\n",
    "                                          generator=torch.Generator().manual_seed(42))\n",
    "\n",
    "train_dataloader = DataLoader(train_dataset, batch_size=BATCH_SIZE, shuffle=False, drop_last=True)\n",
    "val_dataloader = DataLoader(val_dataset, batch_size=BATCH_SIZE, shuffle=True, drop_last=True)\n",
    "test_dataloader = DataLoader(test_dataset, batch_size=BATCH_SIZE, shuffle=False)\n"
   ]
  },
  {
   "cell_type": "code",
   "execution_count": 72,
   "id": "c0ddf3fd",
   "metadata": {},
   "outputs": [
    {
     "name": "stdout",
     "output_type": "stream",
     "text": [
      "torch.Size([128, 1024, 3])\n",
      "torch.Size([128])\n"
     ]
    }
   ],
   "source": [
    "for batch in train_dataloader:\n",
    "    points, labels = batch\n",
    "    print(points.shape)\n",
    "    print(labels.shape)\n",
    "    break"
   ]
  },
  {
   "cell_type": "code",
   "execution_count": 73,
   "id": "34c22859",
   "metadata": {},
   "outputs": [],
   "source": [
    "train_loss = []\n",
    "test_loss = []\n",
    "train_acc = []\n",
    "test_acc = []\n",
    "best_loss= np.inf\n",
    "\n",
    "\n",
    "\n",
    "def training_loop(epochs, model, train_loader, optimizer, criterion,num_points,scheduler=None):\n",
    "    \"\"\"\n",
    "    Hàm huấn luyện mô hình PointNet++ với dữ liệu point cloud từ KITTI.\n",
    "    \"\"\"\n",
    "    model.train()\n",
    "\n",
    "    for epoch in tqdm(range(epochs)):\n",
    "        epoch_train_loss = []\n",
    "        correct = 0\n",
    "        total = 0\n",
    "        for points, labels in train_loader:\n",
    "            points, labels = points.to(device), labels.to(device)\n",
    "\n",
    "            optimizer.zero_grad()\n",
    "            outputs = model(points)  # No need for reshaping\n",
    "\n",
    "            loss = criterion(outputs, labels)\n",
    "            epoch_train_loss.append(loss.cpu().item())\n",
    "\n",
    "            loss.backward()\n",
    "            optimizer.step()\n",
    "\n",
    "            _, predicted = torch.max(outputs, 1)\n",
    "            correct += (predicted == labels).sum().item()\n",
    "            total += labels.size(0)\n",
    "        avg_loss = np.mean(epoch_train_loss)\n",
    "        epoch_acc = correct / total if total > 0 else 0\n",
    "\n",
    "        train_loss.append(avg_loss)\n",
    "        train_acc.append(epoch_acc)\n",
    "\n",
    "        print(f\"Epoch {epoch+1}: train loss: {round(avg_loss, 4)}, train acc: {round(epoch_acc, 4)}\")\n",
    "        if scheduler:\n",
    "            scheduler.step(avg_loss)\n",
    "    return train_loss, train_acc\n"
   ]
  },
  {
   "cell_type": "code",
   "execution_count": 74,
   "id": "c331648f",
   "metadata": {},
   "outputs": [
    {
     "name": "stderr",
     "output_type": "stream",
     "text": [
      "  2%|▎         | 1/40 [03:52<2:30:49, 232.04s/it]"
     ]
    },
    {
     "name": "stdout",
     "output_type": "stream",
     "text": [
      "Epoch 1: train loss: 2.1606, train acc: 0.3216\n"
     ]
    },
    {
     "name": "stderr",
     "output_type": "stream",
     "text": [
      "  5%|▌         | 2/40 [05:01<1:26:13, 136.15s/it]"
     ]
    },
    {
     "name": "stdout",
     "output_type": "stream",
     "text": [
      "Epoch 2: train loss: 1.8046, train acc: 0.4376\n"
     ]
    },
    {
     "name": "stderr",
     "output_type": "stream",
     "text": [
      "  8%|▊         | 3/40 [06:07<1:04:15, 104.21s/it]"
     ]
    },
    {
     "name": "stdout",
     "output_type": "stream",
     "text": [
      "Epoch 3: train loss: 1.732, train acc: 0.5466\n"
     ]
    },
    {
     "name": "stderr",
     "output_type": "stream",
     "text": [
      " 10%|█         | 4/40 [07:13<53:28, 89.13s/it]   "
     ]
    },
    {
     "name": "stdout",
     "output_type": "stream",
     "text": [
      "Epoch 4: train loss: 1.6812, train acc: 0.6068\n"
     ]
    },
    {
     "name": "stderr",
     "output_type": "stream",
     "text": [
      " 12%|█▎        | 5/40 [08:20<47:19, 81.13s/it]"
     ]
    },
    {
     "name": "stdout",
     "output_type": "stream",
     "text": [
      "Epoch 5: train loss: 1.6513, train acc: 0.6203\n"
     ]
    },
    {
     "name": "stderr",
     "output_type": "stream",
     "text": [
      " 15%|█▌        | 6/40 [09:25<42:59, 75.87s/it]"
     ]
    },
    {
     "name": "stdout",
     "output_type": "stream",
     "text": [
      "Epoch 6: train loss: 1.6213, train acc: 0.634\n"
     ]
    },
    {
     "name": "stderr",
     "output_type": "stream",
     "text": [
      " 18%|█▊        | 7/40 [10:31<39:56, 72.61s/it]"
     ]
    },
    {
     "name": "stdout",
     "output_type": "stream",
     "text": [
      "Epoch 7: train loss: 1.6087, train acc: 0.6475\n"
     ]
    },
    {
     "name": "stderr",
     "output_type": "stream",
     "text": [
      " 20%|██        | 8/40 [11:37<37:36, 70.51s/it]"
     ]
    },
    {
     "name": "stdout",
     "output_type": "stream",
     "text": [
      "Epoch 8: train loss: 1.5818, train acc: 0.6589\n"
     ]
    },
    {
     "name": "stderr",
     "output_type": "stream",
     "text": [
      " 22%|██▎       | 9/40 [12:43<35:42, 69.10s/it]"
     ]
    },
    {
     "name": "stdout",
     "output_type": "stream",
     "text": [
      "Epoch 9: train loss: 1.5717, train acc: 0.6541\n"
     ]
    },
    {
     "name": "stderr",
     "output_type": "stream",
     "text": [
      " 25%|██▌       | 10/40 [13:49<34:03, 68.13s/it]"
     ]
    },
    {
     "name": "stdout",
     "output_type": "stream",
     "text": [
      "Epoch 10: train loss: 1.562, train acc: 0.6612\n"
     ]
    },
    {
     "name": "stderr",
     "output_type": "stream",
     "text": [
      " 28%|██▊       | 11/40 [14:55<32:35, 67.42s/it]"
     ]
    },
    {
     "name": "stdout",
     "output_type": "stream",
     "text": [
      "Epoch 11: train loss: 1.5483, train acc: 0.6618\n"
     ]
    },
    {
     "name": "stderr",
     "output_type": "stream",
     "text": [
      " 30%|███       | 12/40 [16:01<31:15, 66.98s/it]"
     ]
    },
    {
     "name": "stdout",
     "output_type": "stream",
     "text": [
      "Epoch 12: train loss: 1.5542, train acc: 0.6698\n"
     ]
    },
    {
     "name": "stderr",
     "output_type": "stream",
     "text": [
      " 32%|███▎      | 13/40 [17:07<29:56, 66.54s/it]"
     ]
    },
    {
     "name": "stdout",
     "output_type": "stream",
     "text": [
      "Epoch 13: train loss: 1.5446, train acc: 0.6707\n"
     ]
    },
    {
     "name": "stderr",
     "output_type": "stream",
     "text": [
      " 35%|███▌      | 14/40 [18:12<28:41, 66.21s/it]"
     ]
    },
    {
     "name": "stdout",
     "output_type": "stream",
     "text": [
      "Epoch 14: train loss: 1.541, train acc: 0.6678\n"
     ]
    },
    {
     "name": "stderr",
     "output_type": "stream",
     "text": [
      " 38%|███▊      | 15/40 [19:19<27:40, 66.42s/it]"
     ]
    },
    {
     "name": "stdout",
     "output_type": "stream",
     "text": [
      "Epoch 15: train loss: 1.5318, train acc: 0.6763\n"
     ]
    },
    {
     "name": "stderr",
     "output_type": "stream",
     "text": [
      " 40%|████      | 16/40 [20:24<26:26, 66.12s/it]"
     ]
    },
    {
     "name": "stdout",
     "output_type": "stream",
     "text": [
      "Epoch 16: train loss: 1.5312, train acc: 0.6852\n"
     ]
    },
    {
     "name": "stderr",
     "output_type": "stream",
     "text": [
      " 42%|████▎     | 17/40 [21:30<25:16, 65.92s/it]"
     ]
    },
    {
     "name": "stdout",
     "output_type": "stream",
     "text": [
      "Epoch 17: train loss: 1.5412, train acc: 0.688\n"
     ]
    },
    {
     "name": "stderr",
     "output_type": "stream",
     "text": [
      " 45%|████▌     | 18/40 [22:35<24:08, 65.84s/it]"
     ]
    },
    {
     "name": "stdout",
     "output_type": "stream",
     "text": [
      "Epoch 18: train loss: 1.524, train acc: 0.6959\n"
     ]
    },
    {
     "name": "stderr",
     "output_type": "stream",
     "text": [
      " 48%|████▊     | 19/40 [23:41<23:00, 65.73s/it]"
     ]
    },
    {
     "name": "stdout",
     "output_type": "stream",
     "text": [
      "Epoch 19: train loss: 1.5386, train acc: 0.6942\n"
     ]
    },
    {
     "name": "stderr",
     "output_type": "stream",
     "text": [
      " 50%|█████     | 20/40 [24:47<21:56, 65.80s/it]"
     ]
    },
    {
     "name": "stdout",
     "output_type": "stream",
     "text": [
      "Epoch 20: train loss: 1.5187, train acc: 0.7045\n"
     ]
    },
    {
     "name": "stderr",
     "output_type": "stream",
     "text": [
      " 52%|█████▎    | 21/40 [25:54<20:55, 66.10s/it]"
     ]
    },
    {
     "name": "stdout",
     "output_type": "stream",
     "text": [
      "Epoch 21: train loss: 1.521, train acc: 0.712\n"
     ]
    },
    {
     "name": "stderr",
     "output_type": "stream",
     "text": [
      " 55%|█████▌    | 22/40 [27:00<19:48, 66.03s/it]"
     ]
    },
    {
     "name": "stdout",
     "output_type": "stream",
     "text": [
      "Epoch 22: train loss: 1.5283, train acc: 0.7138\n"
     ]
    },
    {
     "name": "stderr",
     "output_type": "stream",
     "text": [
      " 57%|█████▊    | 23/40 [28:05<18:41, 65.99s/it]"
     ]
    },
    {
     "name": "stdout",
     "output_type": "stream",
     "text": [
      "Epoch 23: train loss: 1.5125, train acc: 0.7178\n"
     ]
    },
    {
     "name": "stderr",
     "output_type": "stream",
     "text": [
      " 60%|██████    | 24/40 [29:12<17:37, 66.07s/it]"
     ]
    },
    {
     "name": "stdout",
     "output_type": "stream",
     "text": [
      "Epoch 24: train loss: 1.522, train acc: 0.7179\n"
     ]
    },
    {
     "name": "stderr",
     "output_type": "stream",
     "text": [
      " 62%|██████▎   | 25/40 [30:18<16:29, 65.99s/it]"
     ]
    },
    {
     "name": "stdout",
     "output_type": "stream",
     "text": [
      "Epoch 25: train loss: 1.5248, train acc: 0.7126\n"
     ]
    },
    {
     "name": "stderr",
     "output_type": "stream",
     "text": [
      " 65%|██████▌   | 26/40 [31:23<15:23, 65.98s/it]"
     ]
    },
    {
     "name": "stdout",
     "output_type": "stream",
     "text": [
      "Epoch 26: train loss: 1.5143, train acc: 0.7278\n"
     ]
    },
    {
     "name": "stderr",
     "output_type": "stream",
     "text": [
      " 68%|██████▊   | 27/40 [32:29<14:16, 65.89s/it]"
     ]
    },
    {
     "name": "stdout",
     "output_type": "stream",
     "text": [
      "Epoch 27: train loss: 1.5229, train acc: 0.7201\n"
     ]
    },
    {
     "name": "stderr",
     "output_type": "stream",
     "text": [
      " 70%|███████   | 28/40 [33:36<13:12, 66.03s/it]"
     ]
    },
    {
     "name": "stdout",
     "output_type": "stream",
     "text": [
      "Epoch 28: train loss: 1.5311, train acc: 0.7234\n"
     ]
    },
    {
     "name": "stderr",
     "output_type": "stream",
     "text": [
      " 72%|███████▎  | 29/40 [34:42<12:06, 66.03s/it]"
     ]
    },
    {
     "name": "stdout",
     "output_type": "stream",
     "text": [
      "Epoch 29: train loss: 1.5155, train acc: 0.7278\n"
     ]
    },
    {
     "name": "stderr",
     "output_type": "stream",
     "text": [
      " 75%|███████▌  | 30/40 [35:48<11:01, 66.13s/it]"
     ]
    },
    {
     "name": "stdout",
     "output_type": "stream",
     "text": [
      "Epoch 30: train loss: 1.5162, train acc: 0.7243\n"
     ]
    },
    {
     "name": "stderr",
     "output_type": "stream",
     "text": [
      " 78%|███████▊  | 31/40 [36:54<09:54, 66.04s/it]"
     ]
    },
    {
     "name": "stdout",
     "output_type": "stream",
     "text": [
      "Epoch 31: train loss: 1.5067, train acc: 0.7278\n"
     ]
    },
    {
     "name": "stderr",
     "output_type": "stream",
     "text": [
      " 80%|████████  | 32/40 [38:00<08:49, 66.22s/it]"
     ]
    },
    {
     "name": "stdout",
     "output_type": "stream",
     "text": [
      "Epoch 32: train loss: 1.5036, train acc: 0.733\n"
     ]
    },
    {
     "name": "stderr",
     "output_type": "stream",
     "text": [
      " 82%|████████▎ | 33/40 [39:07<07:44, 66.30s/it]"
     ]
    },
    {
     "name": "stdout",
     "output_type": "stream",
     "text": [
      "Epoch 33: train loss: 1.5135, train acc: 0.7319\n"
     ]
    },
    {
     "name": "stderr",
     "output_type": "stream",
     "text": [
      " 85%|████████▌ | 34/40 [40:13<06:36, 66.15s/it]"
     ]
    },
    {
     "name": "stdout",
     "output_type": "stream",
     "text": [
      "Epoch 34: train loss: 1.5176, train acc: 0.7284\n"
     ]
    },
    {
     "name": "stderr",
     "output_type": "stream",
     "text": [
      " 88%|████████▊ | 35/40 [41:18<05:30, 66.03s/it]"
     ]
    },
    {
     "name": "stdout",
     "output_type": "stream",
     "text": [
      "Epoch 35: train loss: 1.5105, train acc: 0.7341\n"
     ]
    },
    {
     "name": "stderr",
     "output_type": "stream",
     "text": [
      " 90%|█████████ | 36/40 [42:24<04:23, 65.94s/it]"
     ]
    },
    {
     "name": "stdout",
     "output_type": "stream",
     "text": [
      "Epoch 36: train loss: 1.5108, train acc: 0.7341\n"
     ]
    },
    {
     "name": "stderr",
     "output_type": "stream",
     "text": [
      " 92%|█████████▎| 37/40 [43:30<03:17, 65.90s/it]"
     ]
    },
    {
     "name": "stdout",
     "output_type": "stream",
     "text": [
      "Epoch 37: train loss: 1.4997, train acc: 0.7386\n"
     ]
    },
    {
     "name": "stderr",
     "output_type": "stream",
     "text": [
      " 95%|█████████▌| 38/40 [44:36<02:11, 65.82s/it]"
     ]
    },
    {
     "name": "stdout",
     "output_type": "stream",
     "text": [
      "Epoch 38: train loss: 1.5038, train acc: 0.738\n"
     ]
    },
    {
     "name": "stderr",
     "output_type": "stream",
     "text": [
      " 98%|█████████▊| 39/40 [45:45<01:06, 66.90s/it]"
     ]
    },
    {
     "name": "stdout",
     "output_type": "stream",
     "text": [
      "Epoch 39: train loss: 1.5088, train acc: 0.735\n"
     ]
    },
    {
     "name": "stderr",
     "output_type": "stream",
     "text": [
      "100%|██████████| 40/40 [46:53<00:00, 70.33s/it]"
     ]
    },
    {
     "name": "stdout",
     "output_type": "stream",
     "text": [
      "Epoch 40: train loss: 1.4999, train acc: 0.7395\n"
     ]
    },
    {
     "name": "stderr",
     "output_type": "stream",
     "text": [
      "\n"
     ]
    }
   ],
   "source": [
    "train_loss, train_acc = training_loop(EPOCHS, model, train_dataloader, optimizer, criterion, NUM_POINTS)"
   ]
  },
  {
   "cell_type": "code",
   "execution_count": 75,
   "id": "5b1b8881",
   "metadata": {},
   "outputs": [],
   "source": [
    "def valid_loop(epochs, model, valid_loader, optimizer, criterion, num_points, best_loss=np.inf):\n",
    "    \"\"\"\n",
    "    Hàm đánh giá mô hình PointNet++ với dữ liệu point cloud từ KITTI.\n",
    "    \"\"\"\n",
    "    for epoch in tqdm(range(epochs)):\n",
    "        epoch_test_loss = []\n",
    "        correct = 0\n",
    "        total = 0\n",
    "        for points, labels in valid_loader:\n",
    "            points, labels = points.to(device), labels.to(device)\n",
    "\n",
    "            model.eval()\n",
    "            with torch.no_grad():\n",
    "                outputs = model(points)\n",
    "                loss = criterion(outputs, labels)\n",
    "                epoch_test_loss.append(loss.cpu().item())\n",
    "                _, predicted = torch.max(outputs, 1)\n",
    "                correct += (predicted == labels).sum().item()\n",
    "                total += labels.size(0)\n",
    "        avg_loss = np.mean(epoch_test_loss)\n",
    "        epoch_acc = correct / total if total > 0 else 0\n",
    "\n",
    "        print(f'Epoch {epoch}: val loss: {round(avg_loss, 4)}, val accuracy: {round(epoch_acc, 4)}')\n",
    "\n",
    "        if avg_loss < best_loss:\n",
    "            state = {\n",
    "                'model': model.state_dict(),\n",
    "                'optimizer': optimizer.state_dict()\n",
    "            }\n",
    "            torch.save(state, os.path.join('/root/Point_Cloud_3D_Object_Detection/checkpoints', f'3DKitti_checkpoint_{num_points}.pth'))\n",
    "            best_loss = avg_loss\n",
    "\n",
    "        test_loss.append(avg_loss)\n",
    "        test_acc.append(epoch_acc)\n",
    "    return test_loss, test_acc"
   ]
  },
  {
   "cell_type": "code",
   "execution_count": 76,
   "id": "9482060b",
   "metadata": {},
   "outputs": [
    {
     "name": "stderr",
     "output_type": "stream",
     "text": [
      "  2%|▎         | 1/40 [00:06<04:27,  6.85s/it]"
     ]
    },
    {
     "name": "stdout",
     "output_type": "stream",
     "text": [
      "Epoch 0: val loss: 0.905, val accuracy: 0.8988\n"
     ]
    },
    {
     "name": "stderr",
     "output_type": "stream",
     "text": [
      "  5%|▌         | 2/40 [00:15<04:52,  7.70s/it]"
     ]
    },
    {
     "name": "stdout",
     "output_type": "stream",
     "text": [
      "Epoch 1: val loss: 0.9065, val accuracy: 0.8902\n"
     ]
    },
    {
     "name": "stderr",
     "output_type": "stream",
     "text": [
      "  8%|▊         | 3/40 [00:23<05:03,  8.20s/it]"
     ]
    },
    {
     "name": "stdout",
     "output_type": "stream",
     "text": [
      "Epoch 2: val loss: 0.9082, val accuracy: 0.8947\n"
     ]
    },
    {
     "name": "stderr",
     "output_type": "stream",
     "text": [
      " 10%|█         | 4/40 [00:30<04:29,  7.50s/it]"
     ]
    },
    {
     "name": "stdout",
     "output_type": "stream",
     "text": [
      "Epoch 3: val loss: 0.9105, val accuracy: 0.8919\n"
     ]
    },
    {
     "name": "stderr",
     "output_type": "stream",
     "text": [
      " 12%|█▎        | 5/40 [00:36<04:09,  7.12s/it]"
     ]
    },
    {
     "name": "stdout",
     "output_type": "stream",
     "text": [
      "Epoch 4: val loss: 0.9106, val accuracy: 0.8935\n"
     ]
    },
    {
     "name": "stderr",
     "output_type": "stream",
     "text": [
      " 15%|█▌        | 6/40 [00:43<03:53,  6.87s/it]"
     ]
    },
    {
     "name": "stdout",
     "output_type": "stream",
     "text": [
      "Epoch 5: val loss: 0.9034, val accuracy: 0.8972\n"
     ]
    },
    {
     "name": "stderr",
     "output_type": "stream",
     "text": [
      " 18%|█▊        | 7/40 [00:49<03:43,  6.76s/it]"
     ]
    },
    {
     "name": "stdout",
     "output_type": "stream",
     "text": [
      "Epoch 6: val loss: 0.9056, val accuracy: 0.8988\n"
     ]
    },
    {
     "name": "stderr",
     "output_type": "stream",
     "text": [
      " 20%|██        | 8/40 [00:56<03:33,  6.67s/it]"
     ]
    },
    {
     "name": "stdout",
     "output_type": "stream",
     "text": [
      "Epoch 7: val loss: 0.9042, val accuracy: 0.8984\n"
     ]
    },
    {
     "name": "stderr",
     "output_type": "stream",
     "text": [
      " 22%|██▎       | 9/40 [01:02<03:22,  6.53s/it]"
     ]
    },
    {
     "name": "stdout",
     "output_type": "stream",
     "text": [
      "Epoch 8: val loss: 0.909, val accuracy: 0.8947\n"
     ]
    },
    {
     "name": "stderr",
     "output_type": "stream",
     "text": [
      " 25%|██▌       | 10/40 [01:08<03:13,  6.45s/it]"
     ]
    },
    {
     "name": "stdout",
     "output_type": "stream",
     "text": [
      "Epoch 9: val loss: 0.9101, val accuracy: 0.8951\n"
     ]
    },
    {
     "name": "stderr",
     "output_type": "stream",
     "text": [
      " 28%|██▊       | 11/40 [01:15<03:06,  6.44s/it]"
     ]
    },
    {
     "name": "stdout",
     "output_type": "stream",
     "text": [
      "Epoch 10: val loss: 0.9053, val accuracy: 0.8935\n"
     ]
    },
    {
     "name": "stderr",
     "output_type": "stream",
     "text": [
      " 30%|███       | 12/40 [01:21<03:00,  6.43s/it]"
     ]
    },
    {
     "name": "stdout",
     "output_type": "stream",
     "text": [
      "Epoch 11: val loss: 0.9033, val accuracy: 0.8943\n"
     ]
    },
    {
     "name": "stderr",
     "output_type": "stream",
     "text": [
      " 32%|███▎      | 13/40 [01:27<02:52,  6.40s/it]"
     ]
    },
    {
     "name": "stdout",
     "output_type": "stream",
     "text": [
      "Epoch 12: val loss: 0.9052, val accuracy: 0.8951\n"
     ]
    },
    {
     "name": "stderr",
     "output_type": "stream",
     "text": [
      " 35%|███▌      | 14/40 [01:34<02:45,  6.36s/it]"
     ]
    },
    {
     "name": "stdout",
     "output_type": "stream",
     "text": [
      "Epoch 13: val loss: 0.9078, val accuracy: 0.8968\n"
     ]
    },
    {
     "name": "stderr",
     "output_type": "stream",
     "text": [
      " 38%|███▊      | 15/40 [01:40<02:42,  6.52s/it]"
     ]
    },
    {
     "name": "stdout",
     "output_type": "stream",
     "text": [
      "Epoch 14: val loss: 0.9089, val accuracy: 0.896\n"
     ]
    },
    {
     "name": "stderr",
     "output_type": "stream",
     "text": [
      " 40%|████      | 16/40 [01:47<02:35,  6.47s/it]"
     ]
    },
    {
     "name": "stdout",
     "output_type": "stream",
     "text": [
      "Epoch 15: val loss: 0.9077, val accuracy: 0.8931\n"
     ]
    },
    {
     "name": "stderr",
     "output_type": "stream",
     "text": [
      " 42%|████▎     | 17/40 [01:53<02:26,  6.39s/it]"
     ]
    },
    {
     "name": "stdout",
     "output_type": "stream",
     "text": [
      "Epoch 16: val loss: 0.9067, val accuracy: 0.898\n"
     ]
    },
    {
     "name": "stderr",
     "output_type": "stream",
     "text": [
      " 45%|████▌     | 18/40 [01:59<02:20,  6.38s/it]"
     ]
    },
    {
     "name": "stdout",
     "output_type": "stream",
     "text": [
      "Epoch 17: val loss: 0.9073, val accuracy: 0.8947\n"
     ]
    },
    {
     "name": "stderr",
     "output_type": "stream",
     "text": [
      " 48%|████▊     | 19/40 [02:06<02:13,  6.34s/it]"
     ]
    },
    {
     "name": "stdout",
     "output_type": "stream",
     "text": [
      "Epoch 18: val loss: 0.9041, val accuracy: 0.9005\n"
     ]
    },
    {
     "name": "stderr",
     "output_type": "stream",
     "text": [
      " 50%|█████     | 20/40 [02:12<02:06,  6.34s/it]"
     ]
    },
    {
     "name": "stdout",
     "output_type": "stream",
     "text": [
      "Epoch 19: val loss: 0.9114, val accuracy: 0.8931\n"
     ]
    },
    {
     "name": "stderr",
     "output_type": "stream",
     "text": [
      " 52%|█████▎    | 21/40 [02:18<02:00,  6.36s/it]"
     ]
    },
    {
     "name": "stdout",
     "output_type": "stream",
     "text": [
      "Epoch 20: val loss: 0.9073, val accuracy: 0.898\n"
     ]
    },
    {
     "name": "stderr",
     "output_type": "stream",
     "text": [
      " 55%|█████▌    | 22/40 [02:25<01:54,  6.34s/it]"
     ]
    },
    {
     "name": "stdout",
     "output_type": "stream",
     "text": [
      "Epoch 21: val loss: 0.9, val accuracy: 0.8984\n"
     ]
    },
    {
     "name": "stderr",
     "output_type": "stream",
     "text": [
      " 57%|█████▊    | 23/40 [02:31<01:47,  6.30s/it]"
     ]
    },
    {
     "name": "stdout",
     "output_type": "stream",
     "text": [
      "Epoch 22: val loss: 0.9081, val accuracy: 0.8997\n"
     ]
    },
    {
     "name": "stderr",
     "output_type": "stream",
     "text": [
      " 60%|██████    | 24/40 [02:37<01:40,  6.27s/it]"
     ]
    },
    {
     "name": "stdout",
     "output_type": "stream",
     "text": [
      "Epoch 23: val loss: 0.9012, val accuracy: 0.896\n"
     ]
    },
    {
     "name": "stderr",
     "output_type": "stream",
     "text": [
      " 62%|██████▎   | 25/40 [02:43<01:34,  6.30s/it]"
     ]
    },
    {
     "name": "stdout",
     "output_type": "stream",
     "text": [
      "Epoch 24: val loss: 0.9032, val accuracy: 0.8968\n"
     ]
    },
    {
     "name": "stderr",
     "output_type": "stream",
     "text": [
      " 65%|██████▌   | 26/40 [02:50<01:28,  6.35s/it]"
     ]
    },
    {
     "name": "stdout",
     "output_type": "stream",
     "text": [
      "Epoch 25: val loss: 0.9051, val accuracy: 0.9021\n"
     ]
    },
    {
     "name": "stderr",
     "output_type": "stream",
     "text": [
      " 68%|██████▊   | 27/40 [02:56<01:22,  6.36s/it]"
     ]
    },
    {
     "name": "stdout",
     "output_type": "stream",
     "text": [
      "Epoch 26: val loss: 0.9126, val accuracy: 0.8935\n"
     ]
    },
    {
     "name": "stderr",
     "output_type": "stream",
     "text": [
      " 70%|███████   | 28/40 [03:03<01:16,  6.37s/it]"
     ]
    },
    {
     "name": "stdout",
     "output_type": "stream",
     "text": [
      "Epoch 27: val loss: 0.9105, val accuracy: 0.8931\n"
     ]
    },
    {
     "name": "stderr",
     "output_type": "stream",
     "text": [
      " 72%|███████▎  | 29/40 [03:10<01:12,  6.55s/it]"
     ]
    },
    {
     "name": "stdout",
     "output_type": "stream",
     "text": [
      "Epoch 28: val loss: 0.9028, val accuracy: 0.8993\n"
     ]
    },
    {
     "name": "stderr",
     "output_type": "stream",
     "text": [
      " 75%|███████▌  | 30/40 [03:17<01:07,  6.79s/it]"
     ]
    },
    {
     "name": "stdout",
     "output_type": "stream",
     "text": [
      "Epoch 29: val loss: 0.9085, val accuracy: 0.8935\n"
     ]
    },
    {
     "name": "stderr",
     "output_type": "stream",
     "text": [
      " 78%|███████▊  | 31/40 [03:23<01:00,  6.69s/it]"
     ]
    },
    {
     "name": "stdout",
     "output_type": "stream",
     "text": [
      "Epoch 30: val loss: 0.905, val accuracy: 0.9017\n"
     ]
    },
    {
     "name": "stderr",
     "output_type": "stream",
     "text": [
      " 80%|████████  | 32/40 [03:30<00:52,  6.61s/it]"
     ]
    },
    {
     "name": "stdout",
     "output_type": "stream",
     "text": [
      "Epoch 31: val loss: 0.9058, val accuracy: 0.8939\n"
     ]
    },
    {
     "name": "stderr",
     "output_type": "stream",
     "text": [
      " 82%|████████▎ | 33/40 [03:39<00:51,  7.31s/it]"
     ]
    },
    {
     "name": "stdout",
     "output_type": "stream",
     "text": [
      "Epoch 32: val loss: 0.9004, val accuracy: 0.8976\n"
     ]
    },
    {
     "name": "stderr",
     "output_type": "stream",
     "text": [
      " 85%|████████▌ | 34/40 [03:46<00:42,  7.15s/it]"
     ]
    },
    {
     "name": "stdout",
     "output_type": "stream",
     "text": [
      "Epoch 33: val loss: 0.9104, val accuracy: 0.8919\n"
     ]
    },
    {
     "name": "stderr",
     "output_type": "stream",
     "text": [
      " 88%|████████▊ | 35/40 [03:53<00:35,  7.13s/it]"
     ]
    },
    {
     "name": "stdout",
     "output_type": "stream",
     "text": [
      "Epoch 34: val loss: 0.9022, val accuracy: 0.898\n"
     ]
    },
    {
     "name": "stderr",
     "output_type": "stream",
     "text": [
      " 90%|█████████ | 36/40 [03:59<00:27,  6.91s/it]"
     ]
    },
    {
     "name": "stdout",
     "output_type": "stream",
     "text": [
      "Epoch 35: val loss: 0.9085, val accuracy: 0.8943\n"
     ]
    },
    {
     "name": "stderr",
     "output_type": "stream",
     "text": [
      " 92%|█████████▎| 37/40 [04:05<00:20,  6.74s/it]"
     ]
    },
    {
     "name": "stdout",
     "output_type": "stream",
     "text": [
      "Epoch 36: val loss: 0.9082, val accuracy: 0.8947\n"
     ]
    },
    {
     "name": "stderr",
     "output_type": "stream",
     "text": [
      " 95%|█████████▌| 38/40 [04:12<00:13,  6.81s/it]"
     ]
    },
    {
     "name": "stdout",
     "output_type": "stream",
     "text": [
      "Epoch 37: val loss: 0.9073, val accuracy: 0.8972\n"
     ]
    },
    {
     "name": "stderr",
     "output_type": "stream",
     "text": [
      " 98%|█████████▊| 39/40 [04:19<00:06,  6.66s/it]"
     ]
    },
    {
     "name": "stdout",
     "output_type": "stream",
     "text": [
      "Epoch 38: val loss: 0.905, val accuracy: 0.8976\n"
     ]
    },
    {
     "name": "stderr",
     "output_type": "stream",
     "text": [
      "100%|██████████| 40/40 [04:25<00:00,  6.64s/it]"
     ]
    },
    {
     "name": "stdout",
     "output_type": "stream",
     "text": [
      "Epoch 39: val loss: 0.9069, val accuracy: 0.8968\n"
     ]
    },
    {
     "name": "stderr",
     "output_type": "stream",
     "text": [
      "\n"
     ]
    }
   ],
   "source": [
    "test_loss,test_acc = valid_loop(EPOCHS, model, val_dataloader, optimizer, criterion, NUM_POINTS)"
   ]
  },
  {
   "cell_type": "code",
   "execution_count": 77,
   "id": "1bbd6d37",
   "metadata": {},
   "outputs": [],
   "source": [
    "def plot_losses(train_loss, test_loss, save_to_file=None):\n",
    "    fig = plt.figure()\n",
    "    epochs = len(train_loss)\n",
    "    plt.plot(range(epochs), train_loss, 'b', label='Training loss')\n",
    "    plt.plot(range(epochs), test_loss, 'r', label='Validation loss')\n",
    "    plt.title('Training and validation loss')\n",
    "    plt.legend()\n",
    "    if save_to_file:\n",
    "        fig.savefig(save_to_file,dpi=200)\n",
    "\n",
    "def plot_accuracy(train_acc, test_acc, save_to_file=None):\n",
    "    fig = plt.figure()\n",
    "    epochs = len(train_acc)\n",
    "    plt.plot(range(epochs), train_acc, 'b', label='Training accuracy')\n",
    "    plt.plot(range(epochs), test_acc, 'r', label='Validation accuracy')\n",
    "    plt.title('Training and validation accuracy')\n",
    "    plt.legend()\n",
    "    if save_to_file:\n",
    "        fig.savefig(save_to_file,dpi=200)\n"
   ]
  },
  {
   "cell_type": "code",
   "execution_count": 78,
   "id": "a681388d",
   "metadata": {},
   "outputs": [
    {
     "data": {
      "image/png": "[encoded data removed]",
      "text/plain": [
       "<Figure size 640x480 with 1 Axes>"
      ]
     },
     "metadata": {},
     "output_type": "display_data"
    },
    {
     "data": {
      "image/png": "[encoded data removed]",
      "text/plain": [
       "<Figure size 640x480 with 1 Axes>"
      ]
     },
     "metadata": {},
     "output_type": "display_data"
    }
   ],
   "source": [
    "plot_losses(train_loss, test_loss, save_to_file=False)\n",
    "plot_accuracy(train_acc, test_acc, save_to_file=False)"
   ]
  },
  {
   "cell_type": "code",
   "execution_count": 84,
   "id": "e6745f1b",
   "metadata": {},
   "outputs": [
    {
     "name": "stdout",
     "output_type": "stream",
     "text": [
      "              precision    recall  f1-score   support\n",
      "\n",
      "           0     0.9230    0.9799    0.9506      3427\n",
      "           1     0.6991    0.8629    0.7724       175\n",
      "           3     1.0000    0.0095    0.0189       105\n",
      "           4     0.9134    0.9684    0.9401       632\n",
      "           5     0.0000    0.0000    0.0000        34\n",
      "           6     0.0000    0.0000    0.0000        57\n",
      "           7     0.6691    0.6078    0.6370       153\n",
      "           8     0.6475    0.5014    0.5651       359\n",
      "\n",
      "    accuracy                         0.8893      4942\n",
      "   macro avg     0.6065    0.4912    0.4855      4942\n",
      "weighted avg     0.8706    0.8893    0.8679      4942\n",
      "\n"
     ]
    },
    {
     "name": "stderr",
     "output_type": "stream",
     "text": [
      "/root/.venv/lib/python3.10/site-packages/sklearn/metrics/_classification.py:1706: UndefinedMetricWarning: Precision is ill-defined and being set to 0.0 in labels with no predicted samples. Use `zero_division` parameter to control this behavior.\n",
      "  _warn_prf(average, modifier, f\"{metric.capitalize()} is\", result.shape[0])\n",
      "/root/.venv/lib/python3.10/site-packages/sklearn/metrics/_classification.py:1706: UndefinedMetricWarning: Precision is ill-defined and being set to 0.0 in labels with no predicted samples. Use `zero_division` parameter to control this behavior.\n",
      "  _warn_prf(average, modifier, f\"{metric.capitalize()} is\", result.shape[0])\n",
      "/root/.venv/lib/python3.10/site-packages/sklearn/metrics/_classification.py:1706: UndefinedMetricWarning: Precision is ill-defined and being set to 0.0 in labels with no predicted samples. Use `zero_division` parameter to control this behavior.\n",
      "  _warn_prf(average, modifier, f\"{metric.capitalize()} is\", result.shape[0])\n",
      "/root/.venv/lib/python3.10/site-packages/sklearn/metrics/_classification.py:1706: UndefinedMetricWarning: Precision is ill-defined and being set to 0.0 in labels with no predicted samples. Use `zero_division` parameter to control this behavior.\n",
      "  _warn_prf(average, modifier, f\"{metric.capitalize()} is\", result.shape[0])\n"
     ]
    }
   ],
   "source": [
    "from sklearn.metrics import classification_report, f1_score, precision_score, recall_score\n",
    "\n",
    "y_true = []\n",
    "y_pred = []\n",
    "model.eval()\n",
    "with torch.no_grad():\n",
    "    correct = 0\n",
    "    total = 0\n",
    "    for points, labels in test_dataloader:\n",
    "        points, labels = points.to(device), labels.to(device)\n",
    "\n",
    "        outputs = model(points)\n",
    "        _, predicted = torch.max(outputs, 1)\n",
    "\n",
    "        y_true.extend(labels.cpu().tolist())\n",
    "        y_pred.extend(predicted.cpu().tolist())\n",
    "\n",
    "\n",
    "\n",
    "# In báo cáo\n",
    "print(classification_report(y_true, y_pred, digits=4))\n",
    "\n",
    "# Hoặc lưu lại\n",
    "precision = precision_score(y_true, y_pred, average='macro')\n",
    "recall = recall_score(y_true, y_pred, average='macro')\n",
    "f1 = f1_score(y_true, y_pred, average='macro')\n"
   ]
  },
  {
   "cell_type": "code",
   "execution_count": 85,
   "id": "00e7677c",
   "metadata": {},
   "outputs": [
    {
     "data": {
      "image/png": "[encoded data removed]",
      "text/plain": [
       "<Figure size 640x480 with 2 Axes>"
      ]
     },
     "metadata": {},
     "output_type": "display_data"
    }
   ],
   "source": [
    "from sklearn.metrics import confusion_matrix\n",
    "import seaborn as sns\n",
    "import matplotlib.pyplot as plt\n",
    "\n",
    "cm = confusion_matrix(y_true, y_pred)\n",
    "sns.heatmap(cm, annot=True, fmt='d', cmap='Blues')\n",
    "plt.xlabel(\"Predicted\")\n",
    "plt.ylabel(\"True\")\n",
    "plt.title(\"Confusion Matrix\")\n",
    "plt.show()\n"
   ]
  },
  {
   "cell_type": "markdown",
   "id": "79107082",
   "metadata": {},
   "source": [
    "<h2> Testing </h2>"
   ]
  },
  {
   "cell_type": "code",
   "execution_count": null,
   "id": "ee19a0d7",
   "metadata": {},
   "outputs": [],
   "source": [
    "# # Ensure model is in evaluation mode\n",
    "# model.eval()\n",
    "\n",
    "# # Initialize a list to store predictions\n",
    "# predictions = []\n",
    "\n",
    "# with torch.no_grad():\n",
    "#     for points in test_loader:\n",
    "#         points = points.to(device)  # Send points to GPU if available\n",
    "#         outputs = model(points)  # Get predictions\n",
    "#         _, predicted_classes = torch.max(outputs, 1)  # Predicted class indices\n",
    "#         predictions.append(predicted_classes.cpu().numpy())  # Store predictions\n",
    "\n",
    "# # Flatten predictions into a single array\n",
    "# predictions = np.concatenate(predictions, axis=0)"
   ]
  }
 ],
 "metadata": {
  "kernelspec": {
   "display_name": ".venv",
   "language": "python",
   "name": "python3"
  },
  "language_info": {
   "codemirror_mode": {
    "name": "ipython",
    "version": 3
   },
   "file_extension": ".py",
   "mimetype": "text/x-python",
   "name": "python",
   "nbconvert_exporter": "python",
   "pygments_lexer": "ipython3",
   "version": "3.10.12"
  }
 },
 "nbformat": 4,
 "nbformat_minor": 5
}
